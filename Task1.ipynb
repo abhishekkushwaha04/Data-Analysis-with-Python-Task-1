{
 "cells": [
  {
   "cell_type": "code",
   "execution_count": 1,
   "id": "ac12cba3-9e8b-463f-ad26-cf426e2a99d7",
   "metadata": {},
   "outputs": [
    {
     "name": "stdout",
     "output_type": "stream",
     "text": [
      "Updated List: [12, 2, 3, 5, 6, 7]\n"
     ]
    }
   ],
   "source": [
    "#Creating a list\n",
    "my_list = [1,2,3,4,5,6]\n",
    "\n",
    "#Adding an element to the list \n",
    "my_list.append(7)\n",
    "\n",
    "#Removing an element from the list\n",
    "my_list.remove(4)\n",
    "\n",
    "#Modifying an element in the list\n",
    "my_list[0] = 12\n",
    "\n",
    "print(\"Updated List:\",my_list)"
   ]
  },
  {
   "cell_type": "code",
   "execution_count": 2,
   "id": "88354e31-e1ad-43fa-8f46-03e6147b58c9",
   "metadata": {},
   "outputs": [
    {
     "name": "stdout",
     "output_type": "stream",
     "text": [
      "Updated Dictionary: {'a': 1, 'c': 10, 'd': 4}\n"
     ]
    }
   ],
   "source": [
    "#Create dictionary\n",
    "my_dict = {'a': 1, 'b': 2, 'c': 3}\n",
    "\n",
    "#Adding elements to the dictionary\n",
    "my_dict['d'] = 4\n",
    "\n",
    "#Removing elements from the dictionary\n",
    "del my_dict['b']\n",
    "\n",
    "#Modifying elements in the dictionary\n",
    "my_dict['c'] = 10\n",
    "\n",
    "print(\"Updated Dictionary:\", my_dict)"
   ]
  },
  {
   "cell_type": "code",
   "execution_count": 5,
   "id": "1685883f-1cf3-4aef-b543-dca0f7d66b0d",
   "metadata": {},
   "outputs": [
    {
     "name": "stdout",
     "output_type": "stream",
     "text": [
      "Updated Set: {2, 3, 5, 6, 7, 10}\n"
     ]
    }
   ],
   "source": [
    "#Creating set\n",
    "my_set = {1,2,3,4,5,6}\n",
    "\n",
    "#Adding elements to the set\n",
    "my_set.add(7)\n",
    "\n",
    "#Removing elements from the set\n",
    "my_set.remove(4)\n",
    "\n",
    "#Modifying elements in the set\n",
    "my_set.discard(1)\n",
    "my_set.add(10)\n",
    "\n",
    "print(\"Updated Set:\", my_set)"
   ]
  },
  {
   "cell_type": "code",
   "execution_count": null,
   "id": "45f16df1-5325-419b-a53d-489dd28c22e5",
   "metadata": {},
   "outputs": [],
   "source": []
  }
 ],
 "metadata": {
  "kernelspec": {
   "display_name": "Python 3 (ipykernel)",
   "language": "python",
   "name": "python3"
  },
  "language_info": {
   "codemirror_mode": {
    "name": "ipython",
    "version": 3
   },
   "file_extension": ".py",
   "mimetype": "text/x-python",
   "name": "python",
   "nbconvert_exporter": "python",
   "pygments_lexer": "ipython3",
   "version": "3.12.2"
  }
 },
 "nbformat": 4,
 "nbformat_minor": 5
}
